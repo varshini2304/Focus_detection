{
 "cells": [
  {
   "cell_type": "code",
   "execution_count": null,
   "id": "8f8bc6d4",
   "metadata": {},
   "outputs": [],
   "source": [
    "import time\n",
    "\n",
    "focus_scores = []\n",
    "start_time = time.time()\n"
   ]
  },
  {
   "cell_type": "code",
   "execution_count": 4,
   "id": "54346933",
   "metadata": {},
   "outputs": [],
   "source": [
    "import numpy as np\n",
    "def calculate_focus_score(landmarks, image_w, image_h):\n",
    "    def to_px(pt): return np.array([int(pt.x * image_w), int(pt.y * image_h)])\n",
    "\n",
    "    l_eye = to_px(landmarks[33])\n",
    "    r_eye = to_px(landmarks[263])\n",
    "    nose = to_px(landmarks[1])\n",
    "    l_ear = to_px(landmarks[234])\n",
    "    r_ear = to_px(landmarks[454])\n",
    "    top_lid = to_px(landmarks[159])\n",
    "    bottom_lid = to_px(landmarks[145])\n",
    "    mouth_upper = to_px(landmarks[13])\n",
    "    mouth_lower = to_px(landmarks[14])\n",
    "\n",
    "    eye_dist = np.linalg.norm(l_eye - r_eye)\n",
    "    head_tilt = abs(l_ear[1] - r_ear[1])\n",
    "    nose_offset = abs((l_eye[0] + r_eye[0]) / 2 - nose[0])\n",
    "\n",
    "    # Eye aspect ratio (simplified)\n",
    "    eye_open = np.linalg.norm(top_lid - bottom_lid)\n",
    "    mouth_open = np.linalg.norm(mouth_upper - mouth_lower)\n",
    "\n",
    "    focus = 100\n",
    "    if nose_offset > 40:\n",
    "        focus -= 20  # not centered\n",
    "    if head_tilt > 30:\n",
    "        focus -= 20  # head tilted\n",
    "    if eye_dist < 60:\n",
    "        focus -= 10  # maybe looking away\n",
    "    if eye_open < 5:\n",
    "        focus -= 20  # closed eyes\n",
    "    if mouth_open > 15:\n",
    "        focus -= 20  # talking (approx)\n",
    "\n",
    "    return max(0, min(100, focus))\n"
   ]
  },
  {
   "cell_type": "code",
   "execution_count": 5,
   "id": "49e91305",
   "metadata": {},
   "outputs": [
    {
     "ename": "NameError",
     "evalue": "name 'cap' is not defined",
     "output_type": "error",
     "traceback": [
      "\u001b[31m---------------------------------------------------------------------------\u001b[39m",
      "\u001b[31mNameError\u001b[39m                                 Traceback (most recent call last)",
      "\u001b[36mCell\u001b[39m\u001b[36m \u001b[39m\u001b[32mIn[5]\u001b[39m\u001b[32m, line 4\u001b[39m\n\u001b[32m      1\u001b[39m duration_minutes = \u001b[32m30\u001b[39m  \u001b[38;5;66;03m# or 60 for an hour\u001b[39;00m\n\u001b[32m      3\u001b[39m \u001b[38;5;28;01mwhile\u001b[39;00m \u001b[38;5;28;01mTrue\u001b[39;00m:\n\u001b[32m----> \u001b[39m\u001b[32m4\u001b[39m     ret, frame = \u001b[43mcap\u001b[49m.read()\n\u001b[32m      5\u001b[39m     \u001b[38;5;28;01mif\u001b[39;00m \u001b[38;5;129;01mnot\u001b[39;00m ret:\n\u001b[32m      6\u001b[39m         \u001b[38;5;28;01mbreak\u001b[39;00m\n",
      "\u001b[31mNameError\u001b[39m: name 'cap' is not defined"
     ]
    }
   ],
   "source": [
    "duration_minutes = 30  # or 60 for an hour\n",
    "\n",
    "while True:\n",
    "    ret, frame = cap.read()\n",
    "    if not ret:\n",
    "        break\n",
    "    h, w, _ = frame.shape\n",
    "    rgb = cv2.cvtColor(frame, cv2.COLOR_BGR2RGB)\n",
    "    results = face_mesh.process(rgb)\n",
    "\n",
    "    if results.multi_face_landmarks:\n",
    "        for face_landmarks in results.multi_face_landmarks:\n",
    "            mp_drawing.draw_landmarks(frame, face_landmarks, mp_face_mesh.FACEMESH_TESSELATION)\n",
    "            focus = calculate_focus_score(face_landmarks.landmark, w, h)\n",
    "\n",
    "            focus_scores.append(focus)\n",
    "\n",
    "            # Show real-time\n",
    "            label = f\"Focus: {int(focus)}%\"\n",
    "            color = (0, 255, 0) if focus >= 70 else (0, 0, 255)\n",
    "            cv2.putText(frame, label, (30, 40), cv2.FONT_HERSHEY_SIMPLEX, 1, color, 2)\n",
    "\n",
    "    elapsed_min = (time.time() - start_time) / 60\n",
    "    cv2.putText(frame, f\"Time: {int(elapsed_min)} min\", (30, 80), cv2.FONT_HERSHEY_SIMPLEX, 0.8, (255,255,255), 2)\n",
    "\n",
    "    # Show average every 5 minutes or at end\n",
    "    if elapsed_min >= duration_minutes:\n",
    "        avg_focus = sum(focus_scores) / len(focus_scores)\n",
    "        print(f\"\\n🧠 Session Complete: Average Focus = {avg_focus:.2f}%\\n\")\n",
    "        break\n",
    "\n",
    "    cv2.imshow(\"Student Focus Detection\", frame)\n",
    "    if cv2.waitKey(1) & 0xFF == ord('q'):\n",
    "        break\n"
   ]
  },
  {
   "cell_type": "code",
   "execution_count": null,
   "id": "c640582c",
   "metadata": {},
   "outputs": [],
   "source": [
    "import pandas as pd\n",
    "\n",
    "df = pd.DataFrame({\n",
    "    'timestamp': np.linspace(0, len(focus_scores)*0.05, len(focus_scores)),  # assuming ~20 FPS\n",
    "    'focus': focus_scores\n",
    "})\n",
    "df.to_csv(\"focus_session_log.csv\", index=False)\n"
   ]
  }
 ],
 "metadata": {
  "kernelspec": {
   "display_name": "Python 3",
   "language": "python",
   "name": "python3"
  },
  "language_info": {
   "codemirror_mode": {
    "name": "ipython",
    "version": 3
   },
   "file_extension": ".py",
   "mimetype": "text/x-python",
   "name": "python",
   "nbconvert_exporter": "python",
   "pygments_lexer": "ipython3",
   "version": "3.11.0"
  }
 },
 "nbformat": 4,
 "nbformat_minor": 5
}
